{
  "nbformat": 4,
  "nbformat_minor": 0,
  "metadata": {
    "colab": {
      "name": "rishav.ipynb",
      "provenance": []
    },
    "kernelspec": {
      "name": "python3",
      "display_name": "Python 3"
    }
  },
  "cells": [
    {
      "cell_type": "code",
      "metadata": {
        "id": "3ZYBitxZ7oOH",
        "colab_type": "code",
        "outputId": "607065e7-4fab-4464-e166-5cb798f26a57",
        "colab": {
          "base_uri": "https://localhost:8080/",
          "height": 34
        }
      },
      "source": [
        "print(\"Hello World!!!!!\")"
      ],
      "execution_count": 0,
      "outputs": [
        {
          "output_type": "stream",
          "text": [
            "Hello World!!!!!\n"
          ],
          "name": "stdout"
        }
      ]
    },
    {
      "cell_type": "code",
      "metadata": {
        "id": "Pi5Knzh98fFi",
        "colab_type": "code",
        "outputId": "127881c7-c512-45f7-e8b1-f3bd727f46a6",
        "colab": {
          "base_uri": "https://localhost:8080/",
          "height": 34
        }
      },
      "source": [
        "radius = input() "
      ],
      "execution_count": 0,
      "outputs": [
        {
          "output_type": "stream",
          "text": [
            "5\n"
          ],
          "name": "stdout"
        }
      ]
    },
    {
      "cell_type": "code",
      "metadata": {
        "id": "c7q74B2i9YC5",
        "colab_type": "code",
        "outputId": "70129288-0c15-4a78-84a5-ee5caecc8d2d",
        "colab": {
          "base_uri": "https://localhost:8080/",
          "height": 34
        }
      },
      "source": [
        "type(radius)"
      ],
      "execution_count": 0,
      "outputs": [
        {
          "output_type": "execute_result",
          "data": {
            "text/plain": [
              "str"
            ]
          },
          "metadata": {
            "tags": []
          },
          "execution_count": 4
        }
      ]
    },
    {
      "cell_type": "code",
      "metadata": {
        "id": "CSFoomPs9p7x",
        "colab_type": "code",
        "colab": {}
      },
      "source": [
        "radius=float(radius)"
      ],
      "execution_count": 0,
      "outputs": []
    },
    {
      "cell_type": "code",
      "metadata": {
        "id": "s4iqfAfg93M4",
        "colab_type": "code",
        "outputId": "bc7efef0-22ed-49a2-b9a9-ef6d37d2fdcc",
        "colab": {
          "base_uri": "https://localhost:8080/",
          "height": 34
        }
      },
      "source": [
        "type(radius)"
      ],
      "execution_count": 0,
      "outputs": [
        {
          "output_type": "execute_result",
          "data": {
            "text/plain": [
              "float"
            ]
          },
          "metadata": {
            "tags": []
          },
          "execution_count": 8
        }
      ]
    },
    {
      "cell_type": "markdown",
      "metadata": {
        "id": "4MvZFQ8n-J7B",
        "colab_type": "text"
      },
      "source": [
        "i love python"
      ]
    },
    {
      "cell_type": "code",
      "metadata": {
        "id": "A_lnTh7P98IQ",
        "colab_type": "code",
        "outputId": "1e205689-8d71-4089-f0dd-96fd53e4715f",
        "colab": {
          "base_uri": "https://localhost:8080/",
          "height": 34
        }
      },
      "source": [
        "x=input(\"Enter the radius\")"
      ],
      "execution_count": 0,
      "outputs": [
        {
          "output_type": "stream",
          "text": [
            "Enter the radius5\n"
          ],
          "name": "stdout"
        }
      ]
    },
    {
      "cell_type": "code",
      "metadata": {
        "id": "oO3RD1LG-yoY",
        "colab_type": "code",
        "colab": {}
      },
      "source": [
        "area=3.14*radius**2"
      ],
      "execution_count": 0,
      "outputs": []
    },
    {
      "cell_type": "code",
      "metadata": {
        "id": "2bxzwPB9_vDu",
        "colab_type": "code",
        "outputId": "69a25228-0340-4251-c74f-899e2be243d5",
        "colab": {
          "base_uri": "https://localhost:8080/",
          "height": 34
        }
      },
      "source": [
        "area"
      ],
      "execution_count": 0,
      "outputs": [
        {
          "output_type": "execute_result",
          "data": {
            "text/plain": [
              "78.5"
            ]
          },
          "metadata": {
            "tags": []
          },
          "execution_count": 12
        }
      ]
    },
    {
      "cell_type": "code",
      "metadata": {
        "id": "xoJ-3NpOAU6l",
        "colab_type": "code",
        "colab": {}
      },
      "source": [
        "import math\n",
        "area = math.pi * radius**2"
      ],
      "execution_count": 0,
      "outputs": []
    },
    {
      "cell_type": "code",
      "metadata": {
        "id": "5NmT32UjBO_l",
        "colab_type": "code",
        "outputId": "3692a253-067d-42c2-c361-057070e6dcfc",
        "colab": {
          "base_uri": "https://localhost:8080/",
          "height": 34
        }
      },
      "source": [
        "area"
      ],
      "execution_count": 0,
      "outputs": [
        {
          "output_type": "execute_result",
          "data": {
            "text/plain": [
              "78.53981633974483"
            ]
          },
          "metadata": {
            "tags": []
          },
          "execution_count": 14
        }
      ]
    },
    {
      "cell_type": "code",
      "metadata": {
        "id": "t9gS-PbmBRJl",
        "colab_type": "code",
        "outputId": "cf72c1ea-897c-485f-c62f-c954137c4352",
        "colab": {
          "base_uri": "https://localhost:8080/",
          "height": 187
        }
      },
      "source": [
        " print(\"Enter the line here\")\n",
        "line=input()\n",
        "line=line.split()\n",
        "for i in range(0,len(line)-1):\n",
        "    for j in range((i+1),len(line)):\n",
        "        if(line[i]==line[j]):\n",
        "            break\n",
        "    print(line[i])"
      ],
      "execution_count": 0,
      "outputs": [
        {
          "output_type": "stream",
          "text": [
            "Enter the line here\n",
            " the table was in The room of The flat\n",
            "the\n",
            "table\n",
            "was\n",
            "in\n",
            "The\n",
            "room\n",
            "of\n",
            "The\n"
          ],
          "name": "stdout"
        }
      ]
    },
    {
      "cell_type": "code",
      "metadata": {
        "id": "RZh5dcfvuJm7",
        "colab_type": "code",
        "outputId": "fcc4ed69-0747-40a8-a3ee-9ebcc6a508f0",
        "colab": {
          "base_uri": "https://localhost:8080/",
          "height": 85
        }
      },
      "source": [
        "print(\"Enter the line here\")\n",
        "string=input()\n",
        "counter=count=0\n",
        "for i in string:\n",
        "  if(i.isupper()):\n",
        "    counter=counter+1\n",
        "  elif(i.islower()):\n",
        "      count=count+1\n",
        "print(\"total number of upper:\",counter)\n",
        "print(\"total number of lower:\",count)"
      ],
      "execution_count": 0,
      "outputs": [
        {
          "output_type": "stream",
          "text": [
            "Enter the line here\n",
            "IHGEHFH BFSUGFUS fjygvjyh\n",
            "total number of upper: 15\n",
            "total number of lower: 8\n"
          ],
          "name": "stdout"
        }
      ]
    },
    {
      "cell_type": "code",
      "metadata": {
        "id": "Tup5wZIDxup9",
        "colab_type": "code",
        "colab": {}
      },
      "source": [
        ""
      ],
      "execution_count": 0,
      "outputs": []
    }
  ]
}